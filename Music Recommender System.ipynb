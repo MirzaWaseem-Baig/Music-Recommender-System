{
 "cells": [
  {
   "cell_type": "code",
   "execution_count": 14,
   "id": "801753bc",
   "metadata": {},
   "outputs": [],
   "source": [
    "import pandas as pd"
   ]
  },
  {
   "cell_type": "code",
   "execution_count": 15,
   "id": "21531034",
   "metadata": {},
   "outputs": [],
   "source": [
    "df = pd.read_csv(\"spotify_millsongdata.csv\")"
   ]
  },
  {
   "cell_type": "code",
   "execution_count": 16,
   "id": "5a3902a1",
   "metadata": {},
   "outputs": [
    {
     "data": {
      "text/html": [
       "<div>\n",
       "<style scoped>\n",
       "    .dataframe tbody tr th:only-of-type {\n",
       "        vertical-align: middle;\n",
       "    }\n",
       "\n",
       "    .dataframe tbody tr th {\n",
       "        vertical-align: top;\n",
       "    }\n",
       "\n",
       "    .dataframe thead th {\n",
       "        text-align: right;\n",
       "    }\n",
       "</style>\n",
       "<table border=\"1\" class=\"dataframe\">\n",
       "  <thead>\n",
       "    <tr style=\"text-align: right;\">\n",
       "      <th></th>\n",
       "      <th>artist</th>\n",
       "      <th>song</th>\n",
       "      <th>link</th>\n",
       "      <th>text</th>\n",
       "    </tr>\n",
       "  </thead>\n",
       "  <tbody>\n",
       "    <tr>\n",
       "      <th>0</th>\n",
       "      <td>ABBA</td>\n",
       "      <td>Ahe's My Kind Of Girl</td>\n",
       "      <td>/a/abba/ahes+my+kind+of+girl_20598417.html</td>\n",
       "      <td>Look at her face, it's a wonderful face  \\r\\nA...</td>\n",
       "    </tr>\n",
       "    <tr>\n",
       "      <th>1</th>\n",
       "      <td>ABBA</td>\n",
       "      <td>Andante, Andante</td>\n",
       "      <td>/a/abba/andante+andante_20002708.html</td>\n",
       "      <td>Take it easy with me, please  \\r\\nTouch me gen...</td>\n",
       "    </tr>\n",
       "    <tr>\n",
       "      <th>2</th>\n",
       "      <td>ABBA</td>\n",
       "      <td>As Good As New</td>\n",
       "      <td>/a/abba/as+good+as+new_20003033.html</td>\n",
       "      <td>I'll never know why I had to go  \\r\\nWhy I had...</td>\n",
       "    </tr>\n",
       "    <tr>\n",
       "      <th>3</th>\n",
       "      <td>ABBA</td>\n",
       "      <td>Bang</td>\n",
       "      <td>/a/abba/bang_20598415.html</td>\n",
       "      <td>Making somebody happy is a question of give an...</td>\n",
       "    </tr>\n",
       "    <tr>\n",
       "      <th>4</th>\n",
       "      <td>ABBA</td>\n",
       "      <td>Bang-A-Boomerang</td>\n",
       "      <td>/a/abba/bang+a+boomerang_20002668.html</td>\n",
       "      <td>Making somebody happy is a question of give an...</td>\n",
       "    </tr>\n",
       "  </tbody>\n",
       "</table>\n",
       "</div>"
      ],
      "text/plain": [
       "  artist                   song                                        link  \\\n",
       "0   ABBA  Ahe's My Kind Of Girl  /a/abba/ahes+my+kind+of+girl_20598417.html   \n",
       "1   ABBA       Andante, Andante       /a/abba/andante+andante_20002708.html   \n",
       "2   ABBA         As Good As New        /a/abba/as+good+as+new_20003033.html   \n",
       "3   ABBA                   Bang                  /a/abba/bang_20598415.html   \n",
       "4   ABBA       Bang-A-Boomerang      /a/abba/bang+a+boomerang_20002668.html   \n",
       "\n",
       "                                                text  \n",
       "0  Look at her face, it's a wonderful face  \\r\\nA...  \n",
       "1  Take it easy with me, please  \\r\\nTouch me gen...  \n",
       "2  I'll never know why I had to go  \\r\\nWhy I had...  \n",
       "3  Making somebody happy is a question of give an...  \n",
       "4  Making somebody happy is a question of give an...  "
      ]
     },
     "execution_count": 16,
     "metadata": {},
     "output_type": "execute_result"
    }
   ],
   "source": [
    "df.head(5)"
   ]
  },
  {
   "cell_type": "code",
   "execution_count": 17,
   "id": "2f011420",
   "metadata": {},
   "outputs": [
    {
     "data": {
      "text/html": [
       "<div>\n",
       "<style scoped>\n",
       "    .dataframe tbody tr th:only-of-type {\n",
       "        vertical-align: middle;\n",
       "    }\n",
       "\n",
       "    .dataframe tbody tr th {\n",
       "        vertical-align: top;\n",
       "    }\n",
       "\n",
       "    .dataframe thead th {\n",
       "        text-align: right;\n",
       "    }\n",
       "</style>\n",
       "<table border=\"1\" class=\"dataframe\">\n",
       "  <thead>\n",
       "    <tr style=\"text-align: right;\">\n",
       "      <th></th>\n",
       "      <th>artist</th>\n",
       "      <th>song</th>\n",
       "      <th>link</th>\n",
       "      <th>text</th>\n",
       "    </tr>\n",
       "  </thead>\n",
       "  <tbody>\n",
       "    <tr>\n",
       "      <th>57645</th>\n",
       "      <td>Ziggy Marley</td>\n",
       "      <td>Good Old Days</td>\n",
       "      <td>/z/ziggy+marley/good+old+days_10198588.html</td>\n",
       "      <td>Irie days come on play  \\r\\nLet the angels fly...</td>\n",
       "    </tr>\n",
       "    <tr>\n",
       "      <th>57646</th>\n",
       "      <td>Ziggy Marley</td>\n",
       "      <td>Hand To Mouth</td>\n",
       "      <td>/z/ziggy+marley/hand+to+mouth_20531167.html</td>\n",
       "      <td>Power to the workers  \\r\\nMore power  \\r\\nPowe...</td>\n",
       "    </tr>\n",
       "    <tr>\n",
       "      <th>57647</th>\n",
       "      <td>Zwan</td>\n",
       "      <td>Come With Me</td>\n",
       "      <td>/z/zwan/come+with+me_20148981.html</td>\n",
       "      <td>all you need  \\r\\nis something i'll believe  \\...</td>\n",
       "    </tr>\n",
       "    <tr>\n",
       "      <th>57648</th>\n",
       "      <td>Zwan</td>\n",
       "      <td>Desire</td>\n",
       "      <td>/z/zwan/desire_20148986.html</td>\n",
       "      <td>northern star  \\r\\nam i frightened  \\r\\nwhere ...</td>\n",
       "    </tr>\n",
       "    <tr>\n",
       "      <th>57649</th>\n",
       "      <td>Zwan</td>\n",
       "      <td>Heartsong</td>\n",
       "      <td>/z/zwan/heartsong_20148991.html</td>\n",
       "      <td>come in  \\r\\nmake yourself at home  \\r\\ni'm a ...</td>\n",
       "    </tr>\n",
       "  </tbody>\n",
       "</table>\n",
       "</div>"
      ],
      "text/plain": [
       "             artist           song  \\\n",
       "57645  Ziggy Marley  Good Old Days   \n",
       "57646  Ziggy Marley  Hand To Mouth   \n",
       "57647          Zwan   Come With Me   \n",
       "57648          Zwan         Desire   \n",
       "57649          Zwan      Heartsong   \n",
       "\n",
       "                                              link  \\\n",
       "57645  /z/ziggy+marley/good+old+days_10198588.html   \n",
       "57646  /z/ziggy+marley/hand+to+mouth_20531167.html   \n",
       "57647           /z/zwan/come+with+me_20148981.html   \n",
       "57648                 /z/zwan/desire_20148986.html   \n",
       "57649              /z/zwan/heartsong_20148991.html   \n",
       "\n",
       "                                                    text  \n",
       "57645  Irie days come on play  \\r\\nLet the angels fly...  \n",
       "57646  Power to the workers  \\r\\nMore power  \\r\\nPowe...  \n",
       "57647  all you need  \\r\\nis something i'll believe  \\...  \n",
       "57648  northern star  \\r\\nam i frightened  \\r\\nwhere ...  \n",
       "57649  come in  \\r\\nmake yourself at home  \\r\\ni'm a ...  "
      ]
     },
     "execution_count": 17,
     "metadata": {},
     "output_type": "execute_result"
    }
   ],
   "source": [
    "df.tail(5)"
   ]
  },
  {
   "cell_type": "code",
   "execution_count": 18,
   "id": "62fb9dea",
   "metadata": {},
   "outputs": [
    {
     "data": {
      "text/plain": [
       "(57650, 4)"
      ]
     },
     "execution_count": 18,
     "metadata": {},
     "output_type": "execute_result"
    }
   ],
   "source": [
    "df.shape"
   ]
  },
  {
   "cell_type": "code",
   "execution_count": 19,
   "id": "bf75b02b",
   "metadata": {},
   "outputs": [
    {
     "data": {
      "text/plain": [
       "artist    0\n",
       "song      0\n",
       "link      0\n",
       "text      0\n",
       "dtype: int64"
      ]
     },
     "execution_count": 19,
     "metadata": {},
     "output_type": "execute_result"
    }
   ],
   "source": [
    "df.isnull().sum()"
   ]
  },
  {
   "cell_type": "code",
   "execution_count": 20,
   "id": "077e8a3d",
   "metadata": {},
   "outputs": [],
   "source": [
    "df = df.sample(5000).drop('link', axis=1).reset_index(drop=True)"
   ]
  },
  {
   "cell_type": "code",
   "execution_count": 21,
   "id": "f2130c6e",
   "metadata": {},
   "outputs": [
    {
     "data": {
      "text/html": [
       "<div>\n",
       "<style scoped>\n",
       "    .dataframe tbody tr th:only-of-type {\n",
       "        vertical-align: middle;\n",
       "    }\n",
       "\n",
       "    .dataframe tbody tr th {\n",
       "        vertical-align: top;\n",
       "    }\n",
       "\n",
       "    .dataframe thead th {\n",
       "        text-align: right;\n",
       "    }\n",
       "</style>\n",
       "<table border=\"1\" class=\"dataframe\">\n",
       "  <thead>\n",
       "    <tr style=\"text-align: right;\">\n",
       "      <th></th>\n",
       "      <th>artist</th>\n",
       "      <th>song</th>\n",
       "      <th>text</th>\n",
       "    </tr>\n",
       "  </thead>\n",
       "  <tbody>\n",
       "    <tr>\n",
       "      <th>0</th>\n",
       "      <td>Iron Maiden</td>\n",
       "      <td>The Fallen Angel</td>\n",
       "      <td>Azazel is beside you and he's playing the game...</td>\n",
       "    </tr>\n",
       "    <tr>\n",
       "      <th>1</th>\n",
       "      <td>Heart</td>\n",
       "      <td>How Beautiful</td>\n",
       "      <td>Winter in the city The year is running dry New...</td>\n",
       "    </tr>\n",
       "    <tr>\n",
       "      <th>2</th>\n",
       "      <td>Jimi Hendrix</td>\n",
       "      <td>Woodstock Festival</td>\n",
       "      <td>500,000 halos ...  \\r\\nOutshined the mud and h...</td>\n",
       "    </tr>\n",
       "    <tr>\n",
       "      <th>3</th>\n",
       "      <td>NOFX</td>\n",
       "      <td>August 8Th</td>\n",
       "      <td>Birds sing there's not a cloud in the sky Augu...</td>\n",
       "    </tr>\n",
       "    <tr>\n",
       "      <th>4</th>\n",
       "      <td>Green Day</td>\n",
       "      <td>Horseshoes and Handgrenades</td>\n",
       "      <td>I'm not fucking around  \\r\\nI think I'm coming...</td>\n",
       "    </tr>\n",
       "    <tr>\n",
       "      <th>5</th>\n",
       "      <td>Cyndi Lauper</td>\n",
       "      <td>Five Days</td>\n",
       "      <td>The five to fours can't take it no more  \\r\\nT...</td>\n",
       "    </tr>\n",
       "    <tr>\n",
       "      <th>6</th>\n",
       "      <td>Isley Brothers</td>\n",
       "      <td>Secret Lover</td>\n",
       "      <td>[Intro]  \\r\\nLa da da da da la da da  \\r\\nOh y...</td>\n",
       "    </tr>\n",
       "    <tr>\n",
       "      <th>7</th>\n",
       "      <td>Pretenders</td>\n",
       "      <td>Louie Louie</td>\n",
       "      <td>Shh... Here they come  \\r\\nNow Louie Louie had...</td>\n",
       "    </tr>\n",
       "    <tr>\n",
       "      <th>8</th>\n",
       "      <td>New Order</td>\n",
       "      <td>Who's Joe?</td>\n",
       "      <td>Hey Joe what you doing?  \\r\\nIt seems like it'...</td>\n",
       "    </tr>\n",
       "    <tr>\n",
       "      <th>9</th>\n",
       "      <td>Otis Redding</td>\n",
       "      <td>Lucille</td>\n",
       "      <td>Lucille, won't you do your sister's will?  \\r\\...</td>\n",
       "    </tr>\n",
       "  </tbody>\n",
       "</table>\n",
       "</div>"
      ],
      "text/plain": [
       "           artist                         song  \\\n",
       "0     Iron Maiden             The Fallen Angel   \n",
       "1           Heart                How Beautiful   \n",
       "2    Jimi Hendrix           Woodstock Festival   \n",
       "3            NOFX                   August 8Th   \n",
       "4       Green Day  Horseshoes and Handgrenades   \n",
       "5    Cyndi Lauper                    Five Days   \n",
       "6  Isley Brothers                 Secret Lover   \n",
       "7      Pretenders                  Louie Louie   \n",
       "8       New Order                   Who's Joe?   \n",
       "9    Otis Redding                      Lucille   \n",
       "\n",
       "                                                text  \n",
       "0  Azazel is beside you and he's playing the game...  \n",
       "1  Winter in the city The year is running dry New...  \n",
       "2  500,000 halos ...  \\r\\nOutshined the mud and h...  \n",
       "3  Birds sing there's not a cloud in the sky Augu...  \n",
       "4  I'm not fucking around  \\r\\nI think I'm coming...  \n",
       "5  The five to fours can't take it no more  \\r\\nT...  \n",
       "6  [Intro]  \\r\\nLa da da da da la da da  \\r\\nOh y...  \n",
       "7  Shh... Here they come  \\r\\nNow Louie Louie had...  \n",
       "8  Hey Joe what you doing?  \\r\\nIt seems like it'...  \n",
       "9  Lucille, won't you do your sister's will?  \\r\\...  "
      ]
     },
     "execution_count": 21,
     "metadata": {},
     "output_type": "execute_result"
    }
   ],
   "source": [
    "df.head(10)"
   ]
  },
  {
   "cell_type": "code",
   "execution_count": 22,
   "id": "cf4e8e2b",
   "metadata": {},
   "outputs": [
    {
     "data": {
      "text/plain": [
       "\"Azazel is beside you and he's playing the game  \\r\\nDemons are inside you and they're making their play  \\r\\nWatching and they're hiding as they wait for the time  \\r\\nFor a devil to get ready and take over your mind  \\r\\n  \\r\\nYou and only god would know what could be done  \\r\\nYou and only god will know I am the only one  \\r\\nYou and only god would know what could be done  \\r\\nYou and only god will know I am the chosen one  \\r\\n  \\r\\nCould it be it's the end of our world?  \\r\\nAll the things that we cherish and love  \\r\\nNothing left but to face this all on my own  \\r\\nCause I am the chosen one  \\r\\n  \\r\\nCould it be it's the end of our world?  \\r\\nAll the things that we cherish and love  \\r\\nNothing left but to face this all on my own  \\r\\nCause I am the chosen one  \\r\\n  \\r\\nBeaten fallen angel but I've risen again  \\r\\nAnd the power is inside me, I've decided to pray  \\r\\nAs I wait for Armageddon and it's coming my way  \\r\\nIt's an honour to be chosen and I wait for the day  \\r\\n  \\r\\nYou and only god would know what could be done  \\r\\nYou and only god will know I am the only one  \\r\\nYou and only god would know what could be done  \\r\\nYou and only god will know that I am the chosen one  \\r\\n  \\r\\nCould it be it's the end of my world?  \\r\\nAll the things that we cherish and love  \\r\\nNothing left but to face all this on my own  \\r\\nCause I am the chosen one  \\r\\n  \\r\\nCould it be it's the end of our world?  \\r\\nAll the things that we cherish and love  \\r\\nNothing left but to face this all on my own  \\r\\nCause I am the chosen one  \\r\\n  \\r\\nCould it be it's the end of our world?  \\r\\nAll the things that we cherish and love  \\r\\nNothing left but to face this all on my own  \\r\\nCause I am the chosen one  \\r\\n  \\r\\nCould it be it's the end of our world?  \\r\\nAll the things that we cherish and love  \\r\\nNothing left but to face this all on my own  \\r\\nCause I am the chosen one\\r\\n\\r\\n\""
      ]
     },
     "execution_count": 22,
     "metadata": {},
     "output_type": "execute_result"
    }
   ],
   "source": [
    "df['text'][0]"
   ]
  },
  {
   "cell_type": "code",
   "execution_count": 23,
   "id": "1d9e2194",
   "metadata": {},
   "outputs": [
    {
     "data": {
      "text/plain": [
       "(5000, 3)"
      ]
     },
     "execution_count": 23,
     "metadata": {},
     "output_type": "execute_result"
    }
   ],
   "source": [
    "df.shape"
   ]
  },
  {
   "cell_type": "markdown",
   "id": "b1181caa",
   "metadata": {},
   "source": [
    "Text Cleaning / Text Processing"
   ]
  },
  {
   "cell_type": "code",
   "execution_count": 25,
   "id": "969e665c",
   "metadata": {},
   "outputs": [],
   "source": [
    "df['text'] = df['text'].str.lower().replace(r'^\\w\\s', ' ').replace(r'\\n',' ', regex = True)"
   ]
  },
  {
   "cell_type": "code",
   "execution_count": 26,
   "id": "939535be",
   "metadata": {},
   "outputs": [
    {
     "data": {
      "text/plain": [
       "\"azazel is beside you and he's playing the game  \\r demons are inside you and they're making their play  \\r watching and they're hiding as they wait for the time  \\r for a devil to get ready and take over your mind  \\r   \\r you and only god would know what could be done  \\r you and only god will know i am the only one  \\r you and only god would know what could be done  \\r you and only god will know i am the chosen one  \\r   \\r could it be it's the end of our world?  \\r all the things that we cherish and love  \\r nothing left but to face this all on my own  \\r cause i am the chosen one  \\r   \\r could it be it's the end of our world?  \\r all the things that we cherish and love  \\r nothing left but to face this all on my own  \\r cause i am the chosen one  \\r   \\r beaten fallen angel but i've risen again  \\r and the power is inside me, i've decided to pray  \\r as i wait for armageddon and it's coming my way  \\r it's an honour to be chosen and i wait for the day  \\r   \\r you and only god would know what could be done  \\r you and only god will know i am the only one  \\r you and only god would know what could be done  \\r you and only god will know that i am the chosen one  \\r   \\r could it be it's the end of my world?  \\r all the things that we cherish and love  \\r nothing left but to face all this on my own  \\r cause i am the chosen one  \\r   \\r could it be it's the end of our world?  \\r all the things that we cherish and love  \\r nothing left but to face this all on my own  \\r cause i am the chosen one  \\r   \\r could it be it's the end of our world?  \\r all the things that we cherish and love  \\r nothing left but to face this all on my own  \\r cause i am the chosen one  \\r   \\r could it be it's the end of our world?  \\r all the things that we cherish and love  \\r nothing left but to face this all on my own  \\r cause i am the chosen one\\r \\r \""
      ]
     },
     "execution_count": 26,
     "metadata": {},
     "output_type": "execute_result"
    }
   ],
   "source": [
    "df['text'][0]"
   ]
  },
  {
   "cell_type": "code",
   "execution_count": 28,
   "id": "e357db9c",
   "metadata": {},
   "outputs": [
    {
     "data": {
      "text/html": [
       "<div>\n",
       "<style scoped>\n",
       "    .dataframe tbody tr th:only-of-type {\n",
       "        vertical-align: middle;\n",
       "    }\n",
       "\n",
       "    .dataframe tbody tr th {\n",
       "        vertical-align: top;\n",
       "    }\n",
       "\n",
       "    .dataframe thead th {\n",
       "        text-align: right;\n",
       "    }\n",
       "</style>\n",
       "<table border=\"1\" class=\"dataframe\">\n",
       "  <thead>\n",
       "    <tr style=\"text-align: right;\">\n",
       "      <th></th>\n",
       "      <th>artist</th>\n",
       "      <th>song</th>\n",
       "      <th>text</th>\n",
       "    </tr>\n",
       "  </thead>\n",
       "  <tbody>\n",
       "    <tr>\n",
       "      <th>4995</th>\n",
       "      <td>UB40</td>\n",
       "      <td>All I Want To Do</td>\n",
       "      <td>[chorus]  \\r i don't like the work but true i ...</td>\n",
       "    </tr>\n",
       "    <tr>\n",
       "      <th>4996</th>\n",
       "      <td>John Prine</td>\n",
       "      <td>Sam Stone</td>\n",
       "      <td>sam stone came home,  \\r to the wife and famil...</td>\n",
       "    </tr>\n",
       "    <tr>\n",
       "      <th>4997</th>\n",
       "      <td>Bee Gees</td>\n",
       "      <td>Love So Right</td>\n",
       "      <td>she came on like the night and she held on tig...</td>\n",
       "    </tr>\n",
       "    <tr>\n",
       "      <th>4998</th>\n",
       "      <td>Gucci Mane</td>\n",
       "      <td>Heavy</td>\n",
       "      <td>gucci, gucci  \\r whats up corey  \\r back in th...</td>\n",
       "    </tr>\n",
       "    <tr>\n",
       "      <th>4999</th>\n",
       "      <td>Tears For Fears</td>\n",
       "      <td>Break It Down Again</td>\n",
       "      <td>break it down again.  \\r so those are my dream...</td>\n",
       "    </tr>\n",
       "  </tbody>\n",
       "</table>\n",
       "</div>"
      ],
      "text/plain": [
       "               artist                 song  \\\n",
       "4995             UB40     All I Want To Do   \n",
       "4996       John Prine            Sam Stone   \n",
       "4997         Bee Gees        Love So Right   \n",
       "4998       Gucci Mane                Heavy   \n",
       "4999  Tears For Fears  Break It Down Again   \n",
       "\n",
       "                                                   text  \n",
       "4995  [chorus]  \\r i don't like the work but true i ...  \n",
       "4996  sam stone came home,  \\r to the wife and famil...  \n",
       "4997  she came on like the night and she held on tig...  \n",
       "4998  gucci, gucci  \\r whats up corey  \\r back in th...  \n",
       "4999  break it down again.  \\r so those are my dream...  "
      ]
     },
     "execution_count": 28,
     "metadata": {},
     "output_type": "execute_result"
    }
   ],
   "source": [
    "df.tail(5)"
   ]
  },
  {
   "cell_type": "code",
   "execution_count": 41,
   "id": "3dd94ab7",
   "metadata": {},
   "outputs": [
    {
     "name": "stderr",
     "output_type": "stream",
     "text": [
      "[nltk_data] Downloading package punkt to\n",
      "[nltk_data]     C:\\Users\\memir\\AppData\\Roaming\\nltk_data...\n",
      "[nltk_data]   Unzipping tokenizers\\punkt.zip.\n"
     ]
    },
    {
     "data": {
      "text/plain": [
       "True"
      ]
     },
     "execution_count": 41,
     "metadata": {},
     "output_type": "execute_result"
    }
   ],
   "source": [
    "import nltk\n",
    "from nltk.stem.porter import PorterStemmer\n",
    "nltk.download('punkt')"
   ]
  },
  {
   "cell_type": "code",
   "execution_count": 42,
   "id": "86e8a251",
   "metadata": {},
   "outputs": [],
   "source": [
    "stemmer = PorterStemmer()"
   ]
  },
  {
   "cell_type": "code",
   "execution_count": 43,
   "id": "6fe1c1f0",
   "metadata": {},
   "outputs": [],
   "source": [
    "def token(txt):\n",
    "    token = nltk.word_tokenize(txt)\n",
    "    a = [stemmer.stem(w) for w in token]\n",
    "    return \" \".join(a)"
   ]
  },
  {
   "cell_type": "code",
   "execution_count": 44,
   "id": "ec378934",
   "metadata": {},
   "outputs": [
    {
     "data": {
      "text/plain": [
       "'you are beauti , beauti'"
      ]
     },
     "execution_count": 44,
     "metadata": {},
     "output_type": "execute_result"
    }
   ],
   "source": [
    "token(\"you are beautiful, beauty\")"
   ]
  },
  {
   "cell_type": "code",
   "execution_count": 55,
   "id": "e4c23d06",
   "metadata": {},
   "outputs": [
    {
     "data": {
      "text/plain": [
       "0       azazel is besid you and he 's play the game de...\n",
       "1       winter in the citi the year is run dri new yea...\n",
       "2       500,000 halo ... outshin the mud and histori ....\n",
       "3       bird sing there 's not a cloud in the sky augu...\n",
       "4       i 'm not fuck around i think i 'm come out all...\n",
       "                              ...                        \n",
       "4995    [ choru ] i do n't like the work but true i ne...\n",
       "4996    sam stone came home , to the wife and famili a...\n",
       "4997    she came on like the night and she held on tig...\n",
       "4998    gucci , gucci what up corey back in the trap !...\n",
       "4999    break it down again . so those are my dream an...\n",
       "Name: text, Length: 5000, dtype: object"
      ]
     },
     "execution_count": 55,
     "metadata": {},
     "output_type": "execute_result"
    }
   ],
   "source": [
    "df['text'].apply(lambda x: token(x))"
   ]
  },
  {
   "cell_type": "code",
   "execution_count": 57,
   "id": "839ad1ca",
   "metadata": {},
   "outputs": [],
   "source": [
    "from sklearn.feature_extraction.text import TfidfVectorizer\n",
    "from sklearn.metrics.pairwise import cosine_similarity"
   ]
  },
  {
   "cell_type": "code",
   "execution_count": 58,
   "id": "8feb8958",
   "metadata": {},
   "outputs": [],
   "source": [
    "tfid = TfidfVectorizer(analyzer = 'word', stop_words = 'english')"
   ]
  },
  {
   "cell_type": "code",
   "execution_count": 59,
   "id": "0bbcb346",
   "metadata": {},
   "outputs": [],
   "source": [
    "matrix = tfid.fit_transform(df['text'])"
   ]
  },
  {
   "cell_type": "code",
   "execution_count": 63,
   "id": "cccf746e",
   "metadata": {},
   "outputs": [],
   "source": [
    "similar = cosine_similarity(matrix)"
   ]
  },
  {
   "cell_type": "code",
   "execution_count": 64,
   "id": "eb530b1f",
   "metadata": {},
   "outputs": [
    {
     "data": {
      "text/plain": [
       "array([1.        , 0.04137212, 0.03637672, ..., 0.0462166 , 0.00882395,\n",
       "       0.04530079])"
      ]
     },
     "execution_count": 64,
     "metadata": {},
     "output_type": "execute_result"
    }
   ],
   "source": [
    "similar[0]"
   ]
  },
  {
   "cell_type": "code",
   "execution_count": 66,
   "id": "d5e2cd14",
   "metadata": {},
   "outputs": [
    {
     "data": {
      "text/plain": [
       "4995"
      ]
     },
     "execution_count": 66,
     "metadata": {},
     "output_type": "execute_result"
    }
   ],
   "source": [
    "df[df['song'] == 'All I Want To Do'].index[0]"
   ]
  },
  {
   "cell_type": "markdown",
   "id": "44859672",
   "metadata": {},
   "source": [
    "Recommender Function"
   ]
  },
  {
   "cell_type": "code",
   "execution_count": 69,
   "id": "c399d4fd",
   "metadata": {},
   "outputs": [],
   "source": [
    "def recommender(song):\n",
    "    idx = df[df['song'] == song].index[0]\n",
    "    distance = sorted(list(enumerate(similar[idx])), reverse = True, key = lambda x:x[1])\n",
    "    song = []\n",
    "    for s_id in distance[1:21]:\n",
    "        song.append(df.iloc[s_id[0]].song)\n",
    "    return song\n",
    "    \n",
    "    "
   ]
  },
  {
   "cell_type": "code",
   "execution_count": 70,
   "id": "6bb0f699",
   "metadata": {},
   "outputs": [
    {
     "data": {
      "text/plain": [
       "['Money',\n",
       " \"Say It Isn't True\",\n",
       " \"I Wouldn't Wanna Be You\",\n",
       " \"Don't Worry Baby (An All Star Tribute To Brian Wilson)\",\n",
       " 'Everything She Wants',\n",
       " \"Don't Worry Baby\",\n",
       " 'Never Let You Go',\n",
       " 'The Last Time',\n",
       " 'I Wish',\n",
       " 'Island In The Sun',\n",
       " 'Only You',\n",
       " 'Paraniod',\n",
       " 'Peace Of Mind',\n",
       " 'I Wish You Love',\n",
       " 'Coney Island Steeplechase',\n",
       " \"Can't Take That Away\",\n",
       " 'Three Little Birds',\n",
       " 'All My Life',\n",
       " \"Wouldn't Want It Any Other Way\",\n",
       " 'Vasoline']"
      ]
     },
     "execution_count": 70,
     "metadata": {},
     "output_type": "execute_result"
    }
   ],
   "source": [
    "recommender('All I Want To Do')"
   ]
  },
  {
   "cell_type": "code",
   "execution_count": 71,
   "id": "ca03395d",
   "metadata": {},
   "outputs": [],
   "source": [
    "import pickle"
   ]
  },
  {
   "cell_type": "code",
   "execution_count": 72,
   "id": "973898ca",
   "metadata": {},
   "outputs": [],
   "source": [
    "pickle.dump(similar, open(\"similarity\", \"wb\"))"
   ]
  },
  {
   "cell_type": "code",
   "execution_count": 73,
   "id": "860c473b",
   "metadata": {},
   "outputs": [],
   "source": [
    "pickle.dump(df, open(\"df\", \"wb\"))"
   ]
  },
  {
   "cell_type": "code",
   "execution_count": null,
   "id": "8f4daa4f",
   "metadata": {},
   "outputs": [],
   "source": []
  }
 ],
 "metadata": {
  "kernelspec": {
   "display_name": "Python 3 (ipykernel)",
   "language": "python",
   "name": "python3"
  },
  "language_info": {
   "codemirror_mode": {
    "name": "ipython",
    "version": 3
   },
   "file_extension": ".py",
   "mimetype": "text/x-python",
   "name": "python",
   "nbconvert_exporter": "python",
   "pygments_lexer": "ipython3",
   "version": "3.10.9"
  }
 },
 "nbformat": 4,
 "nbformat_minor": 5
}
